{
 "cells": [
  {
   "cell_type": "code",
   "execution_count": 1,
   "id": "7607b2cd",
   "metadata": {},
   "outputs": [],
   "source": [
    "import numpy as np\n",
    "import joblib\n",
    "\n",
    "model = joblib.load(open('Car_mpg_models.pkl', 'rb'))\n",
    "\n",
    "def predict_mpg(cylinders,displacement,horsepower,weight,acceleration,Model_Year):\n",
    "    x = np.zeros(6)\n",
    "    x[0] = cylinders\n",
    "    x[1] = displacement\n",
    "    x[2] = horsepower\n",
    "    x[3] = weight\n",
    "    x[4] = acceleration\n",
    "    x[5] = Model_Year\n",
    "#     mpg= model[0].predict([x])[0]\n",
    "#     mpg1=model[1].predict([x])[0]\n",
    "#     mpg2=model[2].predict([x])[0]\n",
    "    mpg3=model[3].predict([x])[0]\n",
    "    return (f'For Randome forest {mpg3}')\n",
    "# For Linear Regression {mpg}, \\n For Knn Regressor{mpg1},\\n For Decsion Tree {mpg2},\\n \n",
    "    # predict_mpg(8,307,130,3504,12,70)"
   ]
  },
  {
   "cell_type": "code",
   "execution_count": null,
   "id": "61365534",
   "metadata": {},
   "outputs": [],
   "source": []
  },
  {
   "cell_type": "code",
   "execution_count": null,
   "id": "cea22346",
   "metadata": {},
   "outputs": [],
   "source": [
    "\n"
   ]
  }
 ],
 "metadata": {
  "kernelspec": {
   "display_name": "Python 3 (ipykernel)",
   "language": "python",
   "name": "python3"
  },
  "language_info": {
   "codemirror_mode": {
    "name": "ipython",
    "version": 3
   },
   "file_extension": ".py",
   "mimetype": "text/x-python",
   "name": "python",
   "nbconvert_exporter": "python",
   "pygments_lexer": "ipython3",
   "version": "3.9.13"
  }
 },
 "nbformat": 4,
 "nbformat_minor": 5
}
