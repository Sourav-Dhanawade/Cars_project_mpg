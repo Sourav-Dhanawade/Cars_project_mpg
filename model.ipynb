{
 "cells": [
  {
   "cell_type": "code",
   "execution_count": 1,
   "id": "14c7a296",
   "metadata": {},
   "outputs": [
    {
     "name": "stdout",
     "output_type": "stream",
     "text": [
      "Starting Python Flask Server For mpg Prediction.......\n",
      " * Serving Flask app \"__main__\" (lazy loading)\n",
      " * Environment: production\n",
      "\u001b[31m   WARNING: This is a development server. Do not use it in a production deployment.\u001b[0m\n",
      "\u001b[2m   Use a production WSGI server instead.\u001b[0m\n",
      " * Debug mode: off\n"
     ]
    },
    {
     "name": "stderr",
     "output_type": "stream",
     "text": [
      " * Running on http://127.0.0.1:5000/ (Press CTRL+C to quit)\n",
      "[2022-11-23 16:36:35,564] ERROR in app: Exception on /predict_mpg [GET]\n",
      "Traceback (most recent call last):\n",
      "  File \"C:\\Users\\asus\\anaconda3\\lib\\site-packages\\flask\\app.py\", line 2447, in wsgi_app\n",
      "    response = self.full_dispatch_request()\n",
      "  File \"C:\\Users\\asus\\anaconda3\\lib\\site-packages\\flask\\app.py\", line 1952, in full_dispatch_request\n",
      "    rv = self.handle_user_exception(e)\n",
      "  File \"C:\\Users\\asus\\anaconda3\\lib\\site-packages\\flask\\app.py\", line 1821, in handle_user_exception\n",
      "    reraise(exc_type, exc_value, tb)\n",
      "  File \"C:\\Users\\asus\\anaconda3\\lib\\site-packages\\flask\\_compat.py\", line 39, in reraise\n",
      "    raise value\n",
      "  File \"C:\\Users\\asus\\anaconda3\\lib\\site-packages\\flask\\app.py\", line 1950, in full_dispatch_request\n",
      "    rv = self.dispatch_request()\n",
      "  File \"C:\\Users\\asus\\anaconda3\\lib\\site-packages\\flask\\app.py\", line 1936, in dispatch_request\n",
      "    return self.view_functions[rule.endpoint](**req.view_args)\n",
      "  File \"C:\\Users\\asus\\AppData\\Local\\Temp\\ipykernel_18436\\330946920.py\", line 25, in prediction\n",
      "    mpg3 = test.predict_mpg(cylinders,displacement,horsepower,weight,acceleration,Model_Year)\n",
      "AttributeError: module 'test' has no attribute 'predict_mpg'\n",
      "127.0.0.1 - - [23/Nov/2022 16:36:35] \"GET /predict_mpg HTTP/1.1\" 500 -\n"
     ]
    },
    {
     "name": "stdout",
     "output_type": "stream",
     "text": [
      "cylinders,displacement,horsepower,weight,acceleration,Model_Year 8.0 307.0 130.0 3504.0 12.0 70.0\n"
     ]
    }
   ],
   "source": [
    "from flask import Flask, request\n",
    "app = Flask(__name__)\n",
    "\n",
    "import pandas as pd\n",
    "import numpy as np\n",
    "import joblib\n",
    "import test  # file is imported test.py(because we want to use func from that file)\n",
    "\n",
    "@app.route('/predict_mpg', methods = ['GET','POST'])\n",
    "def prediction():\n",
    "    data = request.form\n",
    "    if request.method == 'GET': \n",
    "        cylinders = float(data['cylinders'])\n",
    "        displacement  = float(data['displacement'])\n",
    "        horsepower = float(data['horsepower'])\n",
    "        weight  = float(data['weight'])\n",
    "        acceleration = float(data['acceleration'])\n",
    "        Model_Year  = float(data['Model_Year'])\n",
    "\n",
    "\n",
    "        print('cylinders,displacement,horsepower,weight,acceleration,Model_Year',cylinders,displacement,horsepower,weight,acceleration,Model_Year )\n",
    "#         mpg = test.predict_mpg(cylinders,displacement,horsepower,weight,acceleration,Model_Year)\n",
    "#         mpg1 = test.predict_mpg(cylinders,displacement,horsepower,weight,acceleration,Model_Year)\n",
    "#         mpg2 = test.predict_mpg(cylinders,displacement,horsepower,weight,acceleration,Model_Year)\n",
    "        mpg3 = test.predict_mpg(cylinders,displacement,horsepower,weight,acceleration,Model_Year)\n",
    "    return 'Predicted mpg is{}'.format(mpg3)\n",
    "\n",
    "\n",
    "if __name__ == '__main__':\n",
    "    print('Starting Python Flask Server For mpg Prediction.......')\n",
    "    app.run()"
   ]
  },
  {
   "cell_type": "code",
   "execution_count": null,
   "id": "b2ed4dec",
   "metadata": {},
   "outputs": [],
   "source": []
  }
 ],
 "metadata": {
  "kernelspec": {
   "display_name": "Python 3 (ipykernel)",
   "language": "python",
   "name": "python3"
  },
  "language_info": {
   "codemirror_mode": {
    "name": "ipython",
    "version": 3
   },
   "file_extension": ".py",
   "mimetype": "text/x-python",
   "name": "python",
   "nbconvert_exporter": "python",
   "pygments_lexer": "ipython3",
   "version": "3.9.13"
  }
 },
 "nbformat": 4,
 "nbformat_minor": 5
}
